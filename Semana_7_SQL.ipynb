{
  "nbformat": 4,
  "nbformat_minor": 0,
  "metadata": {
    "colab": {
      "provenance": [],
      "toc_visible": true
    },
    "kernelspec": {
      "name": "python3",
      "display_name": "Python 3"
    },
    "language_info": {
      "name": "python"
    }
  },
  "cells": [
    {
      "cell_type": "markdown",
      "source": [
        "Importando o Banco de Dados\n"
      ],
      "metadata": {
        "id": "4USUpZGjN5tg"
      }
    },
    {
      "cell_type": "code",
      "source": [
        "import sqlite3\n",
        "\n",
        "conn = sqlite3.connect('alunos.db')\n",
        "cursor = conn.cursor()"
      ],
      "metadata": {
        "id": "GdbcYaefN5jh"
      },
      "execution_count": null,
      "outputs": []
    },
    {
      "cell_type": "markdown",
      "source": [
        "**1. Crie uma tabela chamada \"alunos\" com os seguintes campos: id (inteiro), nome (texto), idade (inteiro) e curso (texto)**"
      ],
      "metadata": {
        "id": "JF-uMz2mOZN4"
      }
    },
    {
      "cell_type": "code",
      "source": [
        "cursor.execute('''\n",
        "CREATE TABLE IF NOT EXISTS alunos (\n",
        "    id INTEGER PRIMARY KEY AUTOINCREMENT,\n",
        "    nome VARCHAR(200),\n",
        "    idade INT,\n",
        "    curso VARCHAR(30)\n",
        ")\n",
        "''')"
      ],
      "metadata": {
        "colab": {
          "base_uri": "https://localhost:8080/"
        },
        "id": "_fnaQhsZOG15",
        "outputId": "db9251c7-68f6-4375-d5d2-a15cfdcd84eb"
      },
      "execution_count": null,
      "outputs": [
        {
          "output_type": "execute_result",
          "data": {
            "text/plain": [
              "<sqlite3.Cursor at 0x78ba344726c0>"
            ]
          },
          "metadata": {},
          "execution_count": 3
        }
      ]
    },
    {
      "cell_type": "markdown",
      "source": [
        "**2. Insira pelo menos 5 registros de alunos na tabela que você criou no\n",
        "exercício anterior.**"
      ],
      "metadata": {
        "id": "G2tk7oWtOoHw"
      }
    },
    {
      "cell_type": "code",
      "source": [
        "cursor.execute('INSERT INTO alunos (nome, idade, curso) VALUES (\"Julia\", 31, \"Administração\")')\n",
        "cursor.execute('INSERT INTO alunos (nome, idade, curso) VALUES (\"Marcela\", 19, \"Medicina\")')\n",
        "cursor.execute('INSERT INTO alunos (nome, idade, curso) VALUES (\"Jessica\", 22, \"Quimica\")')\n",
        "cursor.execute('INSERT INTO alunos (nome, idade, curso) VALUES (\"Ana\", 34, \"Jornalismo\")')\n",
        "cursor.execute('INSERT INTO alunos (nome, idade, curso) VALUES (\"João\", 18, \"Engenharia\")')\n",
        "conn.commit()"
      ],
      "metadata": {
        "colab": {
          "base_uri": "https://localhost:8080/"
        },
        "id": "GJu4R_EgOwVv",
        "outputId": "7e091135-8bc8-4648-a9d9-557c5130835d"
      },
      "execution_count": null,
      "outputs": [
        {
          "output_type": "execute_result",
          "data": {
            "text/plain": [
              "<sqlite3.Cursor at 0x78ba344726c0>"
            ]
          },
          "metadata": {},
          "execution_count": 8
        }
      ]
    },
    {
      "cell_type": "markdown",
      "source": [
        "***3. Consultas Básicas\n",
        "Escreva consultas SQL para realizar as seguintes tarefas:***\n",
        "\n",
        "1. Selecionar todos os registros da tabela \"alunos\".\n",
        "2. Selecionar o nome e a idade dos alunos com mais de 20 anos.\n",
        "3. Selecionar os alunos do curso de \"Engenharia\" em ordem\n",
        "alfabética.\n",
        "4. Contar o número total de alunos na tabela\n",
        "\n",
        "\n",
        "\n",
        "\n",
        "\n"
      ],
      "metadata": {
        "id": "X-ur5j9fPL7X"
      }
    },
    {
      "cell_type": "code",
      "source": [
        "dados = cursor.execute('SELECT * FROM alunos')\n",
        "for dado in dados:\n",
        "  print(dado)"
      ],
      "metadata": {
        "colab": {
          "base_uri": "https://localhost:8080/"
        },
        "id": "Nnk24BoDPlmt",
        "outputId": "c1a996ce-a41f-46e3-fcbe-341d058b6df5"
      },
      "execution_count": null,
      "outputs": [
        {
          "output_type": "stream",
          "name": "stdout",
          "text": [
            "(1, 'Julia', 31, 'Administração')\n",
            "(2, 'Marcela', 19, 'Medicina')\n",
            "(3, 'Jessica', 22, 'Quimica')\n",
            "(4, 'Ana', 34, 'Jornalismo')\n",
            "(5, 'João', 18, 'Engenharia')\n"
          ]
        }
      ]
    },
    {
      "cell_type": "code",
      "source": [
        "dados = cursor.execute('SELECT nome, idade FROM alunos WHERE idade > 20')\n",
        "for dado in dados:\n",
        "  print(dado)"
      ],
      "metadata": {
        "colab": {
          "base_uri": "https://localhost:8080/"
        },
        "id": "NYcU_l0oQN5g",
        "outputId": "622ff036-ce01-4d9c-f81a-827fce5f97fd"
      },
      "execution_count": null,
      "outputs": [
        {
          "output_type": "stream",
          "name": "stdout",
          "text": [
            "('Julia', 31)\n",
            "('Jessica', 22)\n",
            "('Ana', 34)\n"
          ]
        }
      ]
    },
    {
      "cell_type": "code",
      "source": [
        "dados = cursor.execute('SELECT nome FROM alunos WHERE curso = \"Engenharia\" ORDER BY nome')\n",
        "for dado in dados:\n",
        "  print(dado)"
      ],
      "metadata": {
        "colab": {
          "base_uri": "https://localhost:8080/"
        },
        "id": "-fWzaOZnQYXF",
        "outputId": "ba951239-f69b-43ab-9963-dc0ece065ff0"
      },
      "execution_count": null,
      "outputs": [
        {
          "output_type": "stream",
          "name": "stdout",
          "text": [
            "('João',)\n"
          ]
        }
      ]
    },
    {
      "cell_type": "code",
      "source": [
        "dados = cursor.execute('SELECT COUNT(*) FROM alunos')\n",
        "for dado in dados:\n",
        "  print(dado)\n",
        "print(f'Alunos: {dado[0]}')"
      ],
      "metadata": {
        "colab": {
          "base_uri": "https://localhost:8080/"
        },
        "id": "l5N-x7eyRBGL",
        "outputId": "8992358c-1cf4-48ca-a67a-c49141db72f2"
      },
      "execution_count": null,
      "outputs": [
        {
          "output_type": "stream",
          "name": "stdout",
          "text": [
            "(5,)\n",
            "Alunos: 5\n"
          ]
        }
      ]
    },
    {
      "cell_type": "markdown",
      "source": [
        "**4. Atualização e Remoção**\n",
        "1. Atualize a idade de um aluno específico na tabela.\n",
        "2.  Remova um aluno pelo seu ID.\n"
      ],
      "metadata": {
        "id": "IK7fXUhvRacQ"
      }
    },
    {
      "cell_type": "code",
      "source": [
        "dados = cursor.execute('UPDATE alunos SET idade = 23 WHERE id = 3')\n",
        "conn.commit()\n",
        "dados = cursor.execute('SELECT * FROM alunos WHERE id = 3')\n",
        "for dado in dados:\n",
        "  print(dado)\n"
      ],
      "metadata": {
        "colab": {
          "base_uri": "https://localhost:8080/"
        },
        "id": "At9aCZcORr6W",
        "outputId": "a55f76dd-9666-42cd-d312-d3cd6eb2f9ee"
      },
      "execution_count": null,
      "outputs": [
        {
          "output_type": "stream",
          "name": "stdout",
          "text": [
            "(3, 'Jessica', 23, 'Quimica')\n"
          ]
        }
      ]
    },
    {
      "cell_type": "code",
      "source": [
        "dados = cursor.execute('DELETE FROM alunos WHERE id = 2')\n",
        "conn.commit()\n",
        "dados = cursor.execute('SELECT * FROM alunos')\n",
        "for dado in dados:\n",
        "  print(dado)"
      ],
      "metadata": {
        "colab": {
          "base_uri": "https://localhost:8080/"
        },
        "id": "d4DRQwKgSebc",
        "outputId": "59ec0acd-a8df-4b65-e09e-e42725e40b18"
      },
      "execution_count": null,
      "outputs": [
        {
          "output_type": "stream",
          "name": "stdout",
          "text": [
            "(1, 'Julia', 31, 'Administração')\n",
            "(3, 'Jessica', 23, 'Quimica')\n",
            "(4, 'Ana', 34, 'Jornalismo')\n",
            "(5, 'João', 18, 'Engenharia')\n"
          ]
        }
      ]
    },
    {
      "cell_type": "markdown",
      "source": [
        "**5. Criar uma Tabela e Inserir Dados\n",
        "Crie uma tabela chamada \"clientes\" com os campos: id (chave\n",
        "primária), nome (texto), idade (inteiro) e saldo (float). Insira alguns\n",
        "registros de clientes na tabela.**\n"
      ],
      "metadata": {
        "id": "i6ChDcj1Sxj4"
      }
    },
    {
      "cell_type": "code",
      "source": [
        "cursor.execute('''\n",
        "CREATE TABLE IF NOT EXISTS clientes (\n",
        "    id INTEGER PRIMARY KEY AUTOINCREMENT,\n",
        "    nome VARCHAR(100),\n",
        "    idade INT,\n",
        "    saldo FLOAT\n",
        ")\n",
        "''')"
      ],
      "metadata": {
        "colab": {
          "base_uri": "https://localhost:8080/"
        },
        "id": "fQ96gN8_S6of",
        "outputId": "628f7c82-7e27-4a44-c030-e4dbd5469ac1"
      },
      "execution_count": null,
      "outputs": [
        {
          "output_type": "execute_result",
          "data": {
            "text/plain": [
              "<sqlite3.Cursor at 0x78ba344726c0>"
            ]
          },
          "metadata": {},
          "execution_count": 16
        }
      ]
    },
    {
      "cell_type": "code",
      "source": [
        "cursor.execute(\"INSERT INTO clientes (nome, idade, saldo) VALUES ('Luiza', 28, 1000)\")\n",
        "cursor.execute(\"INSERT INTO clientes (nome, idade, saldo) VALUES ('Lucas', 38, 450.72)\")\n",
        "cursor.execute(\"INSERT INTO clientes (nome, idade, saldo) VALUES ('Mariana', 21, 5031.01)\")\n",
        "cursor.execute(\"INSERT INTO clientes (nome, idade, saldo) VALUES ('Paulo', 18, 531.51)\")\n",
        "cursor.execute(\"INSERT INTO clientes (nome, idade, saldo) VALUES ('Tatiane', 56, 6650.10)\")\n",
        "conn.commit()"
      ],
      "metadata": {
        "id": "_dzvAD2sTWgd"
      },
      "execution_count": null,
      "outputs": []
    },
    {
      "cell_type": "markdown",
      "source": [
        "**6. Consultas e Funções Agregadas\n",
        "Escreva consultas SQL para realizar as seguintes tarefas:**\n",
        "1. Selecione o nome e a idade dos clientes com idade superior a\n",
        "30 anos.\n",
        "2. Calcule o saldo médio dos clientes.\n",
        "3. Encontre o cliente com o saldo máximo.\n",
        "4. Conte quantos clientes têm saldo acima de 1000."
      ],
      "metadata": {
        "id": "3Evo-R-wUDz6"
      }
    },
    {
      "cell_type": "code",
      "source": [
        "cursor.execute('SELECT nome, idade FROM clientes WHERE idade > 30')\n",
        "for dado in cursor.fetchall():\n",
        "  print(dado)"
      ],
      "metadata": {
        "colab": {
          "base_uri": "https://localhost:8080/"
        },
        "id": "TH3D_UeIUMau",
        "outputId": "8087c65b-0324-48fa-e8c1-372a7fdd82dc"
      },
      "execution_count": null,
      "outputs": [
        {
          "output_type": "stream",
          "name": "stdout",
          "text": [
            "('Lucas', 38)\n",
            "('Tatiane', 56)\n"
          ]
        }
      ]
    },
    {
      "cell_type": "code",
      "source": [
        "dados = cursor.execute('SELECT AVG(saldo) FROM clientes')\n",
        "for dado in dados:\n",
        "  print(f'A média de saldo dos clientes é de R$ {dado[0]:.2f}')"
      ],
      "metadata": {
        "colab": {
          "base_uri": "https://localhost:8080/"
        },
        "id": "hSQe5mjDUcPi",
        "outputId": "e7f57620-9fa0-4863-f872-25122be019dc"
      },
      "execution_count": null,
      "outputs": [
        {
          "output_type": "stream",
          "name": "stdout",
          "text": [
            "A média de saldo dos clientes é de R$ 2732.67\n"
          ]
        }
      ]
    },
    {
      "cell_type": "code",
      "source": [
        "dados = cursor.execute('SELECT * FROM clientes WHERE saldo = (SELECT MAX(saldo) FROM clientes)')\n",
        "for dado in dados:\n",
        "  print(f'O cliente com maior saldo é {dado[1]}')"
      ],
      "metadata": {
        "colab": {
          "base_uri": "https://localhost:8080/"
        },
        "id": "gy_X_SoMU5rn",
        "outputId": "a4fefb6d-f57b-4477-ed3e-f1a7c3f8b572"
      },
      "execution_count": null,
      "outputs": [
        {
          "output_type": "stream",
          "name": "stdout",
          "text": [
            "O cliente com maior saldo é Tatiane\n"
          ]
        }
      ]
    },
    {
      "cell_type": "code",
      "source": [
        "dados = cursor.execute(\"SELECT COUNT(*) FROM clientes WHERE saldo > 1000\")\n",
        "for dado in dados:\n",
        "    print(f'Clientes com saldo superior à R$1000: {dado[0]}')"
      ],
      "metadata": {
        "colab": {
          "base_uri": "https://localhost:8080/"
        },
        "id": "cnGEvuifV_6j",
        "outputId": "866b42e7-d543-45b0-b9ba-9f5194e5b39b"
      },
      "execution_count": null,
      "outputs": [
        {
          "output_type": "stream",
          "name": "stdout",
          "text": [
            "Clientes com saldo superior à R$1000: 2\n"
          ]
        }
      ]
    },
    {
      "cell_type": "markdown",
      "source": [
        "**7. Atualização e Remoção com Condições**\n",
        "1. Atualize o saldo de um cliente específico.\n",
        "2. Remova um cliente pelo seu ID.\n"
      ],
      "metadata": {
        "id": "uN9cwLluWRRH"
      }
    },
    {
      "cell_type": "code",
      "source": [
        "cursor.execute(\"UPDATE clientes SET saldo = 25000 WHERE id = 1\")\n",
        "conn.commit()\n",
        "dados = cursor.execute(\"SELECT * FROM clientes WHERE id = 1\")\n",
        "for dado in dados:\n",
        "  print(dado)"
      ],
      "metadata": {
        "colab": {
          "base_uri": "https://localhost:8080/"
        },
        "id": "cAr3dTxrWYWE",
        "outputId": "5ee6b2d4-0d83-43b3-fa47-e19afea77673"
      },
      "execution_count": null,
      "outputs": [
        {
          "output_type": "stream",
          "name": "stdout",
          "text": [
            "(1, 'Luiza', 28, 25000.0)\n"
          ]
        }
      ]
    },
    {
      "cell_type": "code",
      "source": [
        "#cursor.execute('DELETE FROM clientes WHERE id = 2')\n",
        "#conn.commit()\n",
        "#dados = cursor.execute('SELECT * FROM clientes')\n",
        "for dado in dados:\n",
        "  print(dado)"
      ],
      "metadata": {
        "colab": {
          "base_uri": "https://localhost:8080/"
        },
        "id": "MEPWZv85WoVj",
        "outputId": "00efc8f8-645c-413f-9cc6-718907c69de6"
      },
      "execution_count": null,
      "outputs": [
        {
          "output_type": "stream",
          "name": "stdout",
          "text": [
            "(1, 'Luiza', 28, 25000.0)\n",
            "(3, 'Mariana', 21, 5031.01)\n",
            "(4, 'Paulo', 18, 531.51)\n",
            "(5, 'Tatiane', 56, 6650.1)\n"
          ]
        }
      ]
    },
    {
      "cell_type": "markdown",
      "source": [
        "**8. Junção de Tabelas\n",
        "Crie uma segunda tabela chamada \"compras\" com os campos: id\n",
        "(chave primária), cliente_id (chave estrangeira referenciando o id\n",
        "da tabela \"clientes\"), produto (texto) e valor (real). Insira algumas\n",
        "compras associadas a clientes existentes na tabela \"clientes\".\n",
        "Escreva uma consulta para exibir o nome do cliente, o produto e o\n",
        "valor de cada compra.**"
      ],
      "metadata": {
        "id": "r2rp9Z33W3dT"
      }
    },
    {
      "cell_type": "code",
      "source": [
        "cursor.execute('''\n",
        "CREATE TABLE IF NOT EXISTS compras (\n",
        "    id INTEGER PRIMARY KEY AUTOINCREMENT,\n",
        "    cliente_id INTEGER,\n",
        "    produto VARCHAR(100),\n",
        "    valor REAL,\n",
        "    FOREIGN KEY (cliente_id) REFERENCES clientes(id)\n",
        ")\n",
        "''')"
      ],
      "metadata": {
        "colab": {
          "base_uri": "https://localhost:8080/"
        },
        "id": "srbmwQWkW5jr",
        "outputId": "4c8fc788-e0dc-4040-f7e7-aedd40689e4f"
      },
      "execution_count": null,
      "outputs": [
        {
          "output_type": "execute_result",
          "data": {
            "text/plain": [
              "<sqlite3.Cursor at 0x78ba344726c0>"
            ]
          },
          "metadata": {},
          "execution_count": 30
        }
      ]
    },
    {
      "cell_type": "code",
      "source": [
        "cursor.execute(\"INSERT INTO compras (cliente_id, produto, valor) VALUES (1, 'Televisão', 2500.00)\")\n",
        "cursor.execute(\"INSERT INTO compras (cliente_id, produto, valor) VALUES (2, 'Livro', 30.00)\")\n",
        "cursor.execute(\"INSERT INTO compras (cliente_id, produto, valor) VALUES (3, 'Tablet', 800.00)\")\n",
        "cursor.execute(\"INSERT INTO compras (cliente_id, produto, valor) VALUES (4, 'Papel', 00.40)\")\n",
        "cursor.execute(\"INSERT INTO compras (cliente_id, produto, valor) VALUES (5, 'Bola', 200.00)\")\n",
        "\n",
        "conn.commit()\n",
        "\n",
        "dados = cursor.execute('SELECT clientes.nome, compras.produto, compras.valor FROM clientes INNER JOIN compras ON clientes.id = compras.cliente_id')\n",
        "for dado in dados:\n",
        "  print(f'Nome: {dado[0]} | Produto: {dado[1]} | Valor: {dado[2]}')"
      ],
      "metadata": {
        "colab": {
          "base_uri": "https://localhost:8080/"
        },
        "id": "Hhs1L5QtXgmT",
        "outputId": "82f94de0-f7c6-4528-e7e3-86c01f7ce92a"
      },
      "execution_count": null,
      "outputs": [
        {
          "output_type": "stream",
          "name": "stdout",
          "text": [
            "Nome: Luiza | Produto: Televisão | Valor: 2500.0\n",
            "Nome: Mariana | Produto: Tablet | Valor: 800.0\n",
            "Nome: Paulo | Produto: Papel | Valor: 0.4\n",
            "Nome: Tatiane | Produto: Bola | Valor: 200.0\n"
          ]
        }
      ]
    },
    {
      "cell_type": "code",
      "source": [
        "conn.close()"
      ],
      "metadata": {
        "id": "Nhi4RuBaYe_7"
      },
      "execution_count": null,
      "outputs": []
    },
    {
      "cell_type": "code",
      "source": [],
      "metadata": {
        "id": "9ZfdYWaEYgkp"
      },
      "execution_count": null,
      "outputs": []
    }
  ]
}